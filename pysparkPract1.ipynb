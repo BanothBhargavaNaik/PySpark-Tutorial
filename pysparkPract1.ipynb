{
 "cells": [
  {
   "cell_type": "code",
   "execution_count": 1,
   "metadata": {},
   "outputs": [],
   "source": [
    "import pyspark"
   ]
  },
  {
   "cell_type": "code",
   "execution_count": 2,
   "metadata": {},
   "outputs": [],
   "source": [
    "from pyspark.sql import SparkSession"
   ]
  },
  {
   "cell_type": "code",
   "execution_count": 3,
   "metadata": {},
   "outputs": [
    {
     "name": "stderr",
     "output_type": "stream",
     "text": [
      "24/09/17 15:19:24 WARN Utils: Your hostname, yoda-Inspiron resolves to a loopback address: 127.0.1.1; using 192.168.29.170 instead (on interface wlp60s0)\n",
      "24/09/17 15:19:24 WARN Utils: Set SPARK_LOCAL_IP if you need to bind to another address\n",
      "Setting default log level to \"WARN\".\n",
      "To adjust logging level use sc.setLogLevel(newLevel). For SparkR, use setLogLevel(newLevel).\n",
      "24/09/17 15:19:26 WARN NativeCodeLoader: Unable to load native-hadoop library for your platform... using builtin-java classes where applicable\n"
     ]
    }
   ],
   "source": [
    "spark = SparkSession.builder.appName('Practice').getOrCreate()"
   ]
  },
  {
   "cell_type": "code",
   "execution_count": 4,
   "metadata": {},
   "outputs": [
    {
     "data": {
      "text/html": [
       "\n",
       "            <div>\n",
       "                <p><b>SparkSession - in-memory</b></p>\n",
       "                \n",
       "        <div>\n",
       "            <p><b>SparkContext</b></p>\n",
       "\n",
       "            <p><a href=\"http://192.168.29.170:4040\">Spark UI</a></p>\n",
       "\n",
       "            <dl>\n",
       "              <dt>Version</dt>\n",
       "                <dd><code>v3.5.2</code></dd>\n",
       "              <dt>Master</dt>\n",
       "                <dd><code>local[*]</code></dd>\n",
       "              <dt>AppName</dt>\n",
       "                <dd><code>Practice</code></dd>\n",
       "            </dl>\n",
       "        </div>\n",
       "        \n",
       "            </div>\n",
       "        "
      ],
      "text/plain": [
       "<pyspark.sql.session.SparkSession at 0x746398185610>"
      ]
     },
     "execution_count": 4,
     "metadata": {},
     "output_type": "execute_result"
    },
    {
     "name": "stderr",
     "output_type": "stream",
     "text": [
      "24/09/17 15:19:39 WARN GarbageCollectionMetrics: To enable non-built-in garbage collector(s) List(G1 Concurrent GC), users should configure it(them) to spark.eventLog.gcMetrics.youngGenerationGarbageCollectors or spark.eventLog.gcMetrics.oldGenerationGarbageCollectors\n"
     ]
    }
   ],
   "source": [
    "spark"
   ]
  },
  {
   "cell_type": "code",
   "execution_count": 5,
   "metadata": {},
   "outputs": [],
   "source": [
    "df_pyspark = spark.read.csv(\"credit_risk_dataset.csv\")"
   ]
  },
  {
   "cell_type": "code",
   "execution_count": 6,
   "metadata": {},
   "outputs": [
    {
     "data": {
      "text/plain": [
       "DataFrame[_c0: string, _c1: string, _c2: string, _c3: string, _c4: string, _c5: string, _c6: string, _c7: string, _c8: string, _c9: string, _c10: string, _c11: string]"
      ]
     },
     "execution_count": 6,
     "metadata": {},
     "output_type": "execute_result"
    }
   ],
   "source": [
    "df_pyspark"
   ]
  },
  {
   "cell_type": "code",
   "execution_count": 7,
   "metadata": {},
   "outputs": [
    {
     "name": "stdout",
     "output_type": "stream",
     "text": [
      "+----------+-------------+--------------------+-----------------+-----------------+----------+---------+-------------+-----------+-------------------+--------------------+--------------------+\n",
      "|       _c0|          _c1|                 _c2|              _c3|              _c4|       _c5|      _c6|          _c7|        _c8|                _c9|                _c10|                _c11|\n",
      "+----------+-------------+--------------------+-----------------+-----------------+----------+---------+-------------+-----------+-------------------+--------------------+--------------------+\n",
      "|person_age|person_income|person_home_owner...|person_emp_length|      loan_intent|loan_grade|loan_amnt|loan_int_rate|loan_status|loan_percent_income|cb_person_default...|cb_person_cred_hi...|\n",
      "|        22|        59000|                RENT|            123.0|         PERSONAL|         D|    35000|        16.02|          1|               0.59|                   Y|                   3|\n",
      "|        21|         9600|                 OWN|              5.0|        EDUCATION|         B|     1000|        11.14|          0|                0.1|                   N|                   2|\n",
      "|        25|         9600|            MORTGAGE|              1.0|          MEDICAL|         C|     5500|        12.87|          1|               0.57|                   N|                   3|\n",
      "|        23|        65500|                RENT|              4.0|          MEDICAL|         C|    35000|        15.23|          1|               0.53|                   N|                   2|\n",
      "|        24|        54400|                RENT|              8.0|          MEDICAL|         C|    35000|        14.27|          1|               0.55|                   Y|                   4|\n",
      "|        21|         9900|                 OWN|              2.0|          VENTURE|         A|     2500|         7.14|          1|               0.25|                   N|                   2|\n",
      "|        26|        77100|                RENT|              8.0|        EDUCATION|         B|    35000|        12.42|          1|               0.45|                   N|                   3|\n",
      "|        24|        78956|                RENT|              5.0|          MEDICAL|         B|    35000|        11.11|          1|               0.44|                   N|                   4|\n",
      "|        24|        83000|                RENT|              8.0|         PERSONAL|         A|    35000|          8.9|          1|               0.42|                   N|                   2|\n",
      "|        21|        10000|                 OWN|              6.0|          VENTURE|         D|     1600|        14.74|          1|               0.16|                   N|                   3|\n",
      "|        22|        85000|                RENT|              6.0|          VENTURE|         B|    35000|        10.37|          1|               0.41|                   N|                   4|\n",
      "|        21|        10000|                 OWN|              2.0|  HOMEIMPROVEMENT|         A|     4500|         8.63|          1|               0.45|                   N|                   2|\n",
      "|        23|        95000|                RENT|              2.0|          VENTURE|         A|    35000|          7.9|          1|               0.37|                   N|                   2|\n",
      "|        26|       108160|                RENT|              4.0|        EDUCATION|         E|    35000|        18.39|          1|               0.32|                   N|                   4|\n",
      "|        23|       115000|                RENT|              2.0|        EDUCATION|         A|    35000|          7.9|          0|                0.3|                   N|                   4|\n",
      "|        23|       500000|            MORTGAGE|              7.0|DEBTCONSOLIDATION|         B|    30000|        10.65|          0|               0.06|                   N|                   3|\n",
      "|        23|       120000|                RENT|              0.0|        EDUCATION|         A|    35000|          7.9|          0|               0.29|                   N|                   4|\n",
      "|        23|        92111|                RENT|              7.0|          MEDICAL|         F|    35000|        20.25|          1|               0.32|                   N|                   4|\n",
      "|        23|       113000|                RENT|              8.0|DEBTCONSOLIDATION|         D|    35000|        18.25|          1|               0.31|                   N|                   4|\n",
      "+----------+-------------+--------------------+-----------------+-----------------+----------+---------+-------------+-----------+-------------------+--------------------+--------------------+\n",
      "only showing top 20 rows\n",
      "\n"
     ]
    }
   ],
   "source": [
    "df_pyspark.show()"
   ]
  },
  {
   "cell_type": "code",
   "execution_count": 11,
   "metadata": {},
   "outputs": [],
   "source": [
    "df_pyspark = spark.read.option('header','true').csv(\"credit_risk_dataset.csv\")"
   ]
  },
  {
   "cell_type": "code",
   "execution_count": 12,
   "metadata": {},
   "outputs": [
    {
     "data": {
      "text/plain": [
       "DataFrame[person_age: string, person_income: string, person_home_ownership: string, person_emp_length: string, loan_intent: string, loan_grade: string, loan_amnt: string, loan_int_rate: string, loan_status: string, loan_percent_income: string, cb_person_default_on_file: string, cb_person_cred_hist_length: string]"
      ]
     },
     "execution_count": 12,
     "metadata": {},
     "output_type": "execute_result"
    }
   ],
   "source": [
    "df_pyspark"
   ]
  },
  {
   "cell_type": "code",
   "execution_count": 13,
   "metadata": {},
   "outputs": [
    {
     "name": "stdout",
     "output_type": "stream",
     "text": [
      "+----------+-------------+---------------------+-----------------+-----------------+----------+---------+-------------+-----------+-------------------+-------------------------+--------------------------+\n",
      "|person_age|person_income|person_home_ownership|person_emp_length|      loan_intent|loan_grade|loan_amnt|loan_int_rate|loan_status|loan_percent_income|cb_person_default_on_file|cb_person_cred_hist_length|\n",
      "+----------+-------------+---------------------+-----------------+-----------------+----------+---------+-------------+-----------+-------------------+-------------------------+--------------------------+\n",
      "|        22|        59000|                 RENT|            123.0|         PERSONAL|         D|    35000|        16.02|          1|               0.59|                        Y|                         3|\n",
      "|        21|         9600|                  OWN|              5.0|        EDUCATION|         B|     1000|        11.14|          0|                0.1|                        N|                         2|\n",
      "|        25|         9600|             MORTGAGE|              1.0|          MEDICAL|         C|     5500|        12.87|          1|               0.57|                        N|                         3|\n",
      "|        23|        65500|                 RENT|              4.0|          MEDICAL|         C|    35000|        15.23|          1|               0.53|                        N|                         2|\n",
      "|        24|        54400|                 RENT|              8.0|          MEDICAL|         C|    35000|        14.27|          1|               0.55|                        Y|                         4|\n",
      "|        21|         9900|                  OWN|              2.0|          VENTURE|         A|     2500|         7.14|          1|               0.25|                        N|                         2|\n",
      "|        26|        77100|                 RENT|              8.0|        EDUCATION|         B|    35000|        12.42|          1|               0.45|                        N|                         3|\n",
      "|        24|        78956|                 RENT|              5.0|          MEDICAL|         B|    35000|        11.11|          1|               0.44|                        N|                         4|\n",
      "|        24|        83000|                 RENT|              8.0|         PERSONAL|         A|    35000|          8.9|          1|               0.42|                        N|                         2|\n",
      "|        21|        10000|                  OWN|              6.0|          VENTURE|         D|     1600|        14.74|          1|               0.16|                        N|                         3|\n",
      "|        22|        85000|                 RENT|              6.0|          VENTURE|         B|    35000|        10.37|          1|               0.41|                        N|                         4|\n",
      "|        21|        10000|                  OWN|              2.0|  HOMEIMPROVEMENT|         A|     4500|         8.63|          1|               0.45|                        N|                         2|\n",
      "|        23|        95000|                 RENT|              2.0|          VENTURE|         A|    35000|          7.9|          1|               0.37|                        N|                         2|\n",
      "|        26|       108160|                 RENT|              4.0|        EDUCATION|         E|    35000|        18.39|          1|               0.32|                        N|                         4|\n",
      "|        23|       115000|                 RENT|              2.0|        EDUCATION|         A|    35000|          7.9|          0|                0.3|                        N|                         4|\n",
      "|        23|       500000|             MORTGAGE|              7.0|DEBTCONSOLIDATION|         B|    30000|        10.65|          0|               0.06|                        N|                         3|\n",
      "|        23|       120000|                 RENT|              0.0|        EDUCATION|         A|    35000|          7.9|          0|               0.29|                        N|                         4|\n",
      "|        23|        92111|                 RENT|              7.0|          MEDICAL|         F|    35000|        20.25|          1|               0.32|                        N|                         4|\n",
      "|        23|       113000|                 RENT|              8.0|DEBTCONSOLIDATION|         D|    35000|        18.25|          1|               0.31|                        N|                         4|\n",
      "|        24|        10800|             MORTGAGE|              8.0|        EDUCATION|         B|     1750|        10.99|          1|               0.16|                        N|                         2|\n",
      "+----------+-------------+---------------------+-----------------+-----------------+----------+---------+-------------+-----------+-------------------+-------------------------+--------------------------+\n",
      "only showing top 20 rows\n",
      "\n"
     ]
    }
   ],
   "source": [
    "df_pyspark.show()"
   ]
  },
  {
   "cell_type": "code",
   "execution_count": 14,
   "metadata": {},
   "outputs": [
    {
     "data": {
      "text/plain": [
       "pyspark.sql.dataframe.DataFrame"
      ]
     },
     "execution_count": 14,
     "metadata": {},
     "output_type": "execute_result"
    }
   ],
   "source": [
    "type(df_pyspark)"
   ]
  },
  {
   "cell_type": "code",
   "execution_count": 16,
   "metadata": {},
   "outputs": [
    {
     "name": "stdout",
     "output_type": "stream",
     "text": [
      "root\n",
      " |-- person_age: string (nullable = true)\n",
      " |-- person_income: string (nullable = true)\n",
      " |-- person_home_ownership: string (nullable = true)\n",
      " |-- person_emp_length: string (nullable = true)\n",
      " |-- loan_intent: string (nullable = true)\n",
      " |-- loan_grade: string (nullable = true)\n",
      " |-- loan_amnt: string (nullable = true)\n",
      " |-- loan_int_rate: string (nullable = true)\n",
      " |-- loan_status: string (nullable = true)\n",
      " |-- loan_percent_income: string (nullable = true)\n",
      " |-- cb_person_default_on_file: string (nullable = true)\n",
      " |-- cb_person_cred_hist_length: string (nullable = true)\n",
      "\n"
     ]
    }
   ],
   "source": [
    "df_pyspark.printSchema()"
   ]
  },
  {
   "cell_type": "code",
   "execution_count": null,
   "metadata": {},
   "outputs": [],
   "source": []
  }
 ],
 "metadata": {
  "kernelspec": {
   "display_name": ".pysparktuVen",
   "language": "python",
   "name": "python3"
  },
  "language_info": {
   "codemirror_mode": {
    "name": "ipython",
    "version": 3
   },
   "file_extension": ".py",
   "mimetype": "text/x-python",
   "name": "python",
   "nbconvert_exporter": "python",
   "pygments_lexer": "ipython3",
   "version": "3.12.3"
  }
 },
 "nbformat": 4,
 "nbformat_minor": 2
}
